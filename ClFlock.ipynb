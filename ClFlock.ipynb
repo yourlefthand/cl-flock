{
 "cells": [
  {
   "cell_type": "code",
   "execution_count": null,
   "metadata": {
    "collapsed": true,
    "scrolled": true
   },
   "outputs": [],
   "source": [
    "%matplotlib inline\n",
    "import sys, time\n",
    "import pyopencl as cl\n",
    "import tables\n",
    "import numpy as np\n",
    "import scipy.misc as scp\n",
    "import matplotlib.pyplot as plt"
   ]
  },
  {
   "cell_type": "code",
   "execution_count": null,
   "metadata": {
    "collapsed": true,
    "scrolled": true
   },
   "outputs": [],
   "source": [
    "def init_data(population_size, resolution):\n",
    "    population = np.zeros((population_size, 16), dtype=np.int32)\n",
    "\n",
    "    max_power = 226\n",
    "    max_mass = 364\n",
    "\n",
    "    res_x = resolution[0]\n",
    "    res_y = resolution[1]\n",
    "    res_z = resolution[2]\n",
    "\n",
    "    #initial position\n",
    "    population[:,0] = np.random.randint(res_x, size=population_size)[:]\n",
    "\n",
    "    population[:,1] = np.random.randint(res_y, size=population_size)[:]\n",
    "\n",
    "    population[:,2] = np.random.randint(res_z, size=population_size)[:]\n",
    "    \n",
    "    #velocity + position provides vector - i.e. initial debt\n",
    "    population[:,3] = 0\n",
    "    population[:,4] = 0\n",
    "    population[:,5] = 0\n",
    "\n",
    "    #mass, power randomized? should be part of genome - eventually?\n",
    "    population[:,6] = np.random.randint(max_power/4, max_power, size=population_size)[:]\n",
    "\n",
    "    population[:,7] = np.random.randint(max_mass/4, max_mass, size=population_size)[:]\n",
    "    \n",
    "    #genomic weights to be used as bytestrings\n",
    "    population[:,8:16] = 0 \n",
    "\n",
    "    return population"
   ]
  },
  {
   "cell_type": "code",
   "execution_count": null,
   "metadata": {
    "collapsed": true,
    "scrolled": true
   },
   "outputs": [],
   "source": [
    "def im(population, resolution):\n",
    "    res_x = resolution[0]\n",
    "    res_y = resolution[1]\n",
    "    \n",
    "    flat_world = np.zeros((res_x,res_y,3), dtype=np.uint8)\n",
    "    \n",
    "    flat_world[population[:,0],population[:,1],0] = 255\n",
    "    flat_world[population[:,0],population[:,1],1] = 255\n",
    "    flat_world[population[:,0],population[:,1],2] = 255\n",
    "    return flat_world"
   ]
  },
  {
   "cell_type": "code",
   "execution_count": null,
   "metadata": {
    "collapsed": true,
    "scrolled": true
   },
   "outputs": [],
   "source": [
    "def draw(population, resolution, count):\n",
    "    res_x = resolution[0]\n",
    "    res_y = resolution[1]\n",
    "\n",
    "    flat_world = np.zeros((res_x, res_y), dtype=bool)\n",
    "    flat_world[population[:,0],population[:,1]] = 1\n",
    "    scp.imsave(\"./out/image/frame_{0:05d}.png\".format(count),flat_world.astype(bool))"
   ]
  },
  {
   "cell_type": "code",
   "execution_count": null,
   "metadata": {
    "collapsed": true,
    "scrolled": true
   },
   "outputs": [],
   "source": [
    "def form_world(population, resolution):\n",
    "    res_x = resolution[0]\n",
    "    res_y = resolution[1]\n",
    "    res_z = resolution[2]\n",
    "\n",
    "    world = np.zeros((res_x, res_y, res_z), dtype=np.int32)\n",
    "    world[population[:,0],population[:,1], population[:,2]] = 1\n",
    "    return world"
   ]
  },
  {
   "cell_type": "code",
   "execution_count": null,
   "metadata": {
    "collapsed": true,
    "scrolled": true
   },
   "outputs": [],
   "source": [
    "def save_as_hd5(population, resolution, filepath=None):\n",
    "    if filepath:\n",
    "      h5_out = tables.open_file(filepath, mode='w', title=\"Starlings\")\n",
    "    else:\n",
    "      h5_out = tables.open_file('./starlings.h5', mode='w', title=\"Starlings\")\n",
    "    root = h5_out.root\n",
    "    h5_out.create_array(root, \"population\", population)\n",
    "    h5_out.create_array(root, \"resolution\", resolution)\n",
    "    h5_out.close()"
   ]
  },
  {
   "cell_type": "code",
   "execution_count": null,
   "metadata": {
    "collapsed": true,
    "scrolled": true
   },
   "outputs": [],
   "source": [
    "def read_from_hd5(filepath=None):\n",
    "    if filepath:\n",
    "      h5_in = tables.open_file(filepath, mode='r')\n",
    "    else:\n",
    "      h5_in = tables.open_file('./starlings.h5', mode='r')\n",
    "    population = h5_in.get_node(\"/population\").read()\n",
    "    resolution = h5_in.get_node(\"/resolution\").read()\n",
    "    h5_in.close()\n",
    "    return population, resolution"
   ]
  },
  {
   "cell_type": "code",
   "execution_count": null,
   "metadata": {
    "collapsed": true,
    "scrolled": true
   },
   "outputs": [],
   "source": [
    "class OpenCl(object):\n",
    "    def __init__(self):\n",
    "        self.ctx, self.queue = self.cl_init()\n",
    "        self.program = self.cl_load_program(\"./kernal.cl\")\n",
    "\n",
    "    def cl_init(self):\n",
    "        platforms = cl.get_platforms()\n",
    "        ctx = cl.create_some_context()\n",
    "        queue = cl.CommandQueue(ctx)\n",
    "        return ctx, queue\n",
    "\n",
    "    def cl_load_program(self, filepath):\n",
    "        f = open(filepath, 'r')\n",
    "        fstr = \"\".join(f.readlines())\n",
    "        program = cl.Program(self.ctx, fstr).build()\n",
    "        return program\n",
    "\n",
    "    def cl_load_data(self, population, world):\n",
    "        mf = cl.mem_flags\n",
    "        out = cl.Buffer(self.ctx, mf.WRITE_ONLY, population.nbytes)\n",
    "        population_cl = cl.Buffer(self.ctx, mf.READ_ONLY | mf.COPY_HOST_PTR, hostbuf=population)\n",
    "        world_cl = cl.image_from_array(self.ctx, world, mode=\"r\")\n",
    "        return population_cl, world_cl, out\n",
    "\n",
    "    def execute(self, num, population, world, inner_rad, outer_rad):\n",
    "        population_cl, world_cl, out = self.cl_load_data(population, world)\n",
    "\n",
    "        world_x = np.int32(world.shape[0])\n",
    "        world_y = np.int32(world.shape[1])\n",
    "        world_z = np.int32(world.shape[2])\n",
    "\n",
    "        constants = np.asarray([0, 0], dtype=np.int32)\n",
    "\n",
    "        ret = np.zeros_like(population)        \n",
    "\n",
    "        global_size = ((num),)\n",
    "        local_size = None\n",
    "\n",
    "        kernalargs = (\n",
    "                      population_cl,\n",
    "                      out,\n",
    "                      world_cl,\n",
    "                      world_x, world_y, world_z,\n",
    "                      inner_rad, outer_rad\n",
    "                     )\n",
    "\n",
    "        image_sequence = []\n",
    "\n",
    "        self.program.knn(self.queue, global_size, local_size, *(kernalargs)).wait()\n",
    "        cl.enqueue_copy(self.queue, ret, out)\n",
    "        #cl.enqueue_read_buffer(self.queue, out, ret)\n",
    "\n",
    "\n",
    "        #supersitious drivel!\n",
    "        out.release()\n",
    "        population_cl.release()\n",
    "        world_cl.release()\n",
    "        \n",
    "        #self.queue.finish()\n",
    "        return ret"
   ]
  },
  {
   "cell_type": "code",
   "execution_count": null,
   "metadata": {
    "collapsed": true
   },
   "outputs": [],
   "source": [
    "def plot_(starlings, resolution):\n",
    "    plt.figure(figsize = (20,20))\n",
    "    \n",
    "    plt.imshow(im(starlings,resolution), interpolation='nearest')\n",
    "    \n",
    "    plt.plot([starlings[1066,1],(starlings[1066,1] - starlings[1066,4])], \n",
    "             [starlings[1066,0],(starlings[1066,0] - starlings[1066,3])], \n",
    "             lw=\"3\", c='red')\n",
    "    plt.plot([starlings[1067,1],(starlings[1067,1] - starlings[1067,4])], \n",
    "             [starlings[1067,0],(starlings[1067,0] - starlings[1067,3])], \n",
    "             lw=\"3\", c='green')\n",
    "    plt.plot([starlings[1068,1],(starlings[1068,1] - starlings[1068,4])], \n",
    "             [starlings[1068,0],(starlings[1068,0] - starlings[1068,3])]\n",
    "             , lw=\"3\", c='magenta')\n",
    "    \n",
    "    plt.scatter((starlings[1066,1] - starlings[1066,4]),\n",
    "                (starlings[1066,0] - starlings[1066,3]), \n",
    "                s=600, c='red', alpha=.5, marker='d')\n",
    "    plt.scatter((starlings[1067,1] - starlings[1067,4]),\n",
    "                (starlings[1067,0] - starlings[1067,3]), \n",
    "                s=600, c='green', alpha=.5, marker='d')\n",
    "    plt.scatter((starlings[1068,1] - starlings[1068,4]),\n",
    "                (starlings[1068,0] - starlings[1068,3]), \n",
    "                s=600, c='magenta', alpha=.5, marker='d')\n",
    "    \n",
    "    plt.scatter(starlings[1066,1], starlings[1066,0], s=600, c='red', )\n",
    "    plt.scatter(starlings[1067,1], starlings[1067,0], s=600, c='green')\n",
    "    plt.scatter(starlings[1068,1], starlings[1068,0], s=600, c='magenta')\n",
    "    \n",
    "    return plt"
   ]
  },
  {
   "cell_type": "code",
   "execution_count": null,
   "metadata": {
    "collapsed": false,
    "scrolled": false
   },
   "outputs": [],
   "source": [
    "num = 640 * 480\n",
    "resolution = [480, 640, 1]\n",
    "\n",
    "starlings = init_data(num, resolution)\n",
    "world = form_world(starlings, resolution)\n",
    "\n",
    "opcl = OpenCl()\n",
    "\n",
    "count = 0\n",
    "\n",
    "inner_rad = np.int32(16)\n",
    "outer_rad = np.int32(32)\n",
    "\n",
    "stop = 24 * 60\n",
    "\n",
    "frames = []\n",
    "\n",
    "while count < stop:\n",
    "\n",
    "      frames.append(starlings)\n",
    "\n",
    "      draw(starlings, resolution, count)\n",
    "      \n",
    "      plot_(starlings, resolution).show()\n",
    "\n",
    "      try:\n",
    "        starlings = opcl.execute(num, starlings, world, inner_rad, outer_rad)\n",
    "      except cl.RuntimeError, e:\n",
    "        print str(e)\n",
    "        np.set_printoptions(threshold=np.nan, linewidth=512)\n",
    "        print starlings[:,0:15]\n",
    "        if filepath and filepath[0]:\n",
    "          save_as_hd5(starlings, resolution, filepath[0])\n",
    "        else:\n",
    "          save_as_hd5(starlings, resolution)\n",
    "        raise\n",
    "      world = form_world(starlings, resolution)\n",
    "    \n",
    "      count += 1\n",
    "        \n",
    "frames = np.asarray(frames)\n"
   ]
  },
  {
   "cell_type": "markdown",
   "metadata": {},
   "source": [
    "[x,y,z,vel_x,vel_y,vel_z,mass,power,coheded,separated,desire_debug,accel_frame_debug]"
   ]
  },
  {
   "cell_type": "code",
   "execution_count": null,
   "metadata": {
    "collapsed": true
   },
   "outputs": [],
   "source": []
  }
 ],
 "metadata": {
  "kernelspec": {
   "display_name": "Python 2",
   "language": "python",
   "name": "python2"
  },
  "language_info": {
   "codemirror_mode": {
    "name": "ipython",
    "version": 2
   },
   "file_extension": ".py",
   "mimetype": "text/x-python",
   "name": "python",
   "nbconvert_exporter": "python",
   "pygments_lexer": "ipython2",
   "version": "2.7.6"
  }
 },
 "nbformat": 4,
 "nbformat_minor": 0
}
